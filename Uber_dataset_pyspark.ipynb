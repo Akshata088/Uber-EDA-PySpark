{
  "nbformat": 4,
  "nbformat_minor": 0,
  "metadata": {
    "colab": {
      "provenance": []
    },
    "kernelspec": {
      "name": "python3",
      "display_name": "Python 3"
    },
    "language_info": {
      "name": "python"
    }
  },
  "cells": [
    {
      "cell_type": "code",
      "execution_count": 1,
      "metadata": {
        "id": "Ws7Nungpk0sP"
      },
      "outputs": [],
      "source": [
        "from pyspark import SparkConf, SparkContext\n",
        "sc = SparkContext()"
      ]
    },
    {
      "cell_type": "code",
      "source": [
        "dataset = sc.textFile(\"/content/sample_data/uber_data\")"
      ],
      "metadata": {
        "id": "KKTA5m0fle8O"
      },
      "execution_count": 2,
      "outputs": []
    },
    {
      "cell_type": "code",
      "source": [
        "for line in dataset.take(10):\n",
        "  print(line)"
      ],
      "metadata": {
        "colab": {
          "base_uri": "https://localhost:8080/"
        },
        "id": "x0gRapz_lruv",
        "outputId": "9478ab9b-6057-4386-ec1c-fbec664446c8"
      },
      "execution_count": 5,
      "outputs": [
        {
          "output_type": "stream",
          "name": "stdout",
          "text": [
            "dispatching_base_number,date,active_vehicles,trips\n",
            "B02512,1/1/2015,190,1132\n",
            "B02765,1/1/2015,225,1765\n",
            "B02764,1/1/2015,3427,29421\n",
            "B02682,1/1/2015,945,7679\n",
            "B02617,1/1/2015,1228,9537\n",
            "B02598,1/1/2015,870,6903\n",
            "B02598,1/2/2015,785,4768\n",
            "B02617,1/2/2015,1137,7065\n",
            "B02512,1/2/2015,175,875\n"
          ]
        }
      ]
    },
    {
      "cell_type": "code",
      "source": [
        "header = dataset.first()\n",
        "print(header)"
      ],
      "metadata": {
        "colab": {
          "base_uri": "https://localhost:8080/"
        },
        "id": "Ty9QsYrzmCzj",
        "outputId": "7a4ac89c-79f9-47c1-83ea-90f24521195b"
      },
      "execution_count": 6,
      "outputs": [
        {
          "output_type": "stream",
          "name": "stdout",
          "text": [
            "dispatching_base_number,date,active_vehicles,trips\n"
          ]
        }
      ]
    },
    {
      "cell_type": "code",
      "source": [
        "eliminate = dataset.filter(lambda line : line != header )"
      ],
      "metadata": {
        "id": "a1ASU9tJmsKg"
      },
      "execution_count": 9,
      "outputs": []
    },
    {
      "cell_type": "code",
      "source": [
        "for line in eliminate.take(10):\n",
        "  print(line)"
      ],
      "metadata": {
        "colab": {
          "base_uri": "https://localhost:8080/"
        },
        "id": "hrOM5V8Gnkw6",
        "outputId": "182eaeb2-b876-4962-8ba1-dac74e1acf70"
      },
      "execution_count": 11,
      "outputs": [
        {
          "output_type": "stream",
          "name": "stdout",
          "text": [
            "B02512,1/1/2015,190,1132\n",
            "B02765,1/1/2015,225,1765\n",
            "B02764,1/1/2015,3427,29421\n",
            "B02682,1/1/2015,945,7679\n",
            "B02617,1/1/2015,1228,9537\n",
            "B02598,1/1/2015,870,6903\n",
            "B02598,1/2/2015,785,4768\n",
            "B02617,1/2/2015,1137,7065\n",
            "B02512,1/2/2015,175,875\n",
            "B02682,1/2/2015,890,5506\n"
          ]
        }
      ]
    },
    {
      "cell_type": "code",
      "source": [
        "format_date = \"%m/%d/%Y\""
      ],
      "metadata": {
        "id": "39unVX39n5R8"
      },
      "execution_count": 12,
      "outputs": []
    },
    {
      "cell_type": "code",
      "source": [
        "import datetime"
      ],
      "metadata": {
        "id": "LTCcuZmNoWy1"
      },
      "execution_count": 13,
      "outputs": []
    },
    {
      "cell_type": "code",
      "source": [
        "print(datetime.datetime.strptime(\"11/14/2024\",format_date).strftime(\"%A\"))"
      ],
      "metadata": {
        "colab": {
          "base_uri": "https://localhost:8080/"
        },
        "id": "6-9nghsaoZtG",
        "outputId": "bdc46918-d2ee-46cb-9f1b-b660ade316b6"
      },
      "execution_count": 14,
      "outputs": [
        {
          "output_type": "stream",
          "name": "stdout",
          "text": [
            "Thursday\n"
          ]
        }
      ]
    },
    {
      "cell_type": "code",
      "source": [
        "split = eliminate.map(lambda a : (a.split(\",\")[0],datetime.datetime.strptime(a.split(\",\")[1],format_date).strftime(\"%A\"),a.split(\",\")[3] ))"
      ],
      "metadata": {
        "id": "o7GQZaz4o3q5"
      },
      "execution_count": 15,
      "outputs": []
    },
    {
      "cell_type": "code",
      "source": [
        "for line in split.take(10):\n",
        "  print(line)"
      ],
      "metadata": {
        "colab": {
          "base_uri": "https://localhost:8080/"
        },
        "id": "VxP6TLezqxNV",
        "outputId": "66506fbe-4637-4798-f3a5-141d7052d5d7"
      },
      "execution_count": 16,
      "outputs": [
        {
          "output_type": "stream",
          "name": "stdout",
          "text": [
            "('B02512', 'Thursday', '1132')\n",
            "('B02765', 'Thursday', '1765')\n",
            "('B02764', 'Thursday', '29421')\n",
            "('B02682', 'Thursday', '7679')\n",
            "('B02617', 'Thursday', '9537')\n",
            "('B02598', 'Thursday', '6903')\n",
            "('B02598', 'Friday', '4768')\n",
            "('B02617', 'Friday', '7065')\n",
            "('B02512', 'Friday', '875')\n",
            "('B02682', 'Friday', '5506')\n"
          ]
        }
      ]
    },
    {
      "cell_type": "code",
      "source": [
        "combine = split.map(lambda x : ( x[0] + \" \" + x[1],int(x[2])) )"
      ],
      "metadata": {
        "id": "g6XWl7nbq7jq"
      },
      "execution_count": 17,
      "outputs": []
    },
    {
      "cell_type": "code",
      "source": [
        "for line in combine.take(10):\n",
        "  print(line)"
      ],
      "metadata": {
        "colab": {
          "base_uri": "https://localhost:8080/"
        },
        "id": "DV_MVzn-rm3j",
        "outputId": "f813842b-b7da-4065-f7c9-b24925a5e722"
      },
      "execution_count": 18,
      "outputs": [
        {
          "output_type": "stream",
          "name": "stdout",
          "text": [
            "('B02512 Thursday', 1132)\n",
            "('B02765 Thursday', 1765)\n",
            "('B02764 Thursday', 29421)\n",
            "('B02682 Thursday', 7679)\n",
            "('B02617 Thursday', 9537)\n",
            "('B02598 Thursday', 6903)\n",
            "('B02598 Friday', 4768)\n",
            "('B02617 Friday', 7065)\n",
            "('B02512 Friday', 875)\n",
            "('B02682 Friday', 5506)\n"
          ]
        }
      ]
    },
    {
      "cell_type": "code",
      "source": [
        "arrange = combine.reduceByKey(lambda a,b : a+b)"
      ],
      "metadata": {
        "id": "e0FDfVB0rspZ"
      },
      "execution_count": 19,
      "outputs": []
    },
    {
      "cell_type": "code",
      "source": [
        "for line in arrange.collect():\n",
        "  print(line)"
      ],
      "metadata": {
        "colab": {
          "base_uri": "https://localhost:8080/"
        },
        "id": "C6X43O5Ir_GW",
        "outputId": "13e995ac-0f24-4314-d950-88b6f53e3697"
      },
      "execution_count": 20,
      "outputs": [
        {
          "output_type": "stream",
          "name": "stdout",
          "text": [
            "('B02764 Thursday', 304200)\n",
            "('B02682 Thursday', 106643)\n",
            "('B02598 Thursday', 90333)\n",
            "('B02682 Friday', 114662)\n",
            "('B02764 Friday', 326968)\n",
            "('B02682 Saturday', 120283)\n",
            "('B02512 Saturday', 15026)\n",
            "('B02764 Saturday', 356789)\n",
            "('B02682 Sunday', 82825)\n",
            "('B02617 Sunday', 91722)\n",
            "('B02682 Monday', 74939)\n",
            "('B02617 Monday', 80591)\n",
            "('B02598 Monday', 60882)\n",
            "('B02764 Tuesday', 221343)\n",
            "('B02598 Tuesday', 63429)\n",
            "('B02617 Wednesday', 94887)\n",
            "('B02682 Wednesday', 86252)\n",
            "('B02512 Thursday', 15809)\n",
            "('B02765 Thursday', 30408)\n",
            "('B02617 Thursday', 118254)\n",
            "('B02598 Friday', 93126)\n",
            "('B02617 Friday', 125067)\n",
            "('B02512 Friday', 16435)\n",
            "('B02765 Friday', 34934)\n",
            "('B02765 Saturday', 36737)\n",
            "('B02617 Saturday', 127902)\n",
            "('B02598 Saturday', 94588)\n",
            "('B02512 Sunday', 10487)\n",
            "('B02598 Sunday', 66477)\n",
            "('B02765 Sunday', 22536)\n",
            "('B02764 Sunday', 249896)\n",
            "('B02512 Monday', 11297)\n",
            "('B02764 Monday', 214116)\n",
            "('B02765 Monday', 21974)\n",
            "('B02682 Tuesday', 76905)\n",
            "('B02617 Tuesday', 86602)\n",
            "('B02765 Tuesday', 22741)\n",
            "('B02512 Tuesday', 12041)\n",
            "('B02764 Wednesday', 241137)\n",
            "('B02765 Wednesday', 24340)\n",
            "('B02512 Wednesday', 12691)\n",
            "('B02598 Wednesday', 71956)\n"
          ]
        }
      ]
    },
    {
      "cell_type": "code",
      "source": [
        "sortbyval = arrange.sortBy(lambda a : -a[1])"
      ],
      "metadata": {
        "id": "TfqsW-iDsMkq"
      },
      "execution_count": 21,
      "outputs": []
    },
    {
      "cell_type": "code",
      "source": [
        "for line in sortbyval.collect():\n",
        "  print(line)"
      ],
      "metadata": {
        "colab": {
          "base_uri": "https://localhost:8080/"
        },
        "id": "YqBH1ly5sdCA",
        "outputId": "ab639810-5a25-487a-d661-ddc5d8b41e7c"
      },
      "execution_count": 22,
      "outputs": [
        {
          "output_type": "stream",
          "name": "stdout",
          "text": [
            "('B02764 Saturday', 356789)\n",
            "('B02764 Friday', 326968)\n",
            "('B02764 Thursday', 304200)\n",
            "('B02764 Sunday', 249896)\n",
            "('B02764 Wednesday', 241137)\n",
            "('B02764 Tuesday', 221343)\n",
            "('B02764 Monday', 214116)\n",
            "('B02617 Saturday', 127902)\n",
            "('B02617 Friday', 125067)\n",
            "('B02682 Saturday', 120283)\n",
            "('B02617 Thursday', 118254)\n",
            "('B02682 Friday', 114662)\n",
            "('B02682 Thursday', 106643)\n",
            "('B02617 Wednesday', 94887)\n",
            "('B02598 Saturday', 94588)\n",
            "('B02598 Friday', 93126)\n",
            "('B02617 Sunday', 91722)\n",
            "('B02598 Thursday', 90333)\n",
            "('B02617 Tuesday', 86602)\n",
            "('B02682 Wednesday', 86252)\n",
            "('B02682 Sunday', 82825)\n",
            "('B02617 Monday', 80591)\n",
            "('B02682 Tuesday', 76905)\n",
            "('B02682 Monday', 74939)\n",
            "('B02598 Wednesday', 71956)\n",
            "('B02598 Sunday', 66477)\n",
            "('B02598 Tuesday', 63429)\n",
            "('B02598 Monday', 60882)\n",
            "('B02765 Saturday', 36737)\n",
            "('B02765 Friday', 34934)\n",
            "('B02765 Thursday', 30408)\n",
            "('B02765 Wednesday', 24340)\n",
            "('B02765 Tuesday', 22741)\n",
            "('B02765 Sunday', 22536)\n",
            "('B02765 Monday', 21974)\n",
            "('B02512 Friday', 16435)\n",
            "('B02512 Thursday', 15809)\n",
            "('B02512 Saturday', 15026)\n",
            "('B02512 Wednesday', 12691)\n",
            "('B02512 Tuesday', 12041)\n",
            "('B02512 Monday', 11297)\n",
            "('B02512 Sunday', 10487)\n"
          ]
        }
      ]
    }
  ]
}